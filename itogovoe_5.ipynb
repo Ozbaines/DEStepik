{
 "cells": [
  {
   "cell_type": "code",
   "execution_count": null,
   "metadata": {},
   "outputs": [],
   "source": [
    "purchases = [\n",
    "    {\"item\": \"apple\", \"category\": \"fruit\", \"price\": 1.2, \"quantity\": 10},\n",
    "    {\"item\": \"banana\", \"category\": \"fruit\", \"price\": 0.5, \"quantity\": 5},\n",
    "    {\"item\": \"milk\", \"category\": \"dairy\", \"price\": 1.5, \"quantity\": 2},\n",
    "    {\"item\": \"bread\", \"category\": \"bakery\", \"price\": 2.0, \"quantity\": 3},\n",
    "]\n",
    "total_revenue = 0\n",
    "items_by_category = {}\n",
    "min_price = []\n",
    "expensive_purchases = []\n",
    "category_stats = {}\n",
    "for _dict in purchases:\n",
    "    total_revenue += float(_dict['price']) * float(_dict['quantity'])\n",
    "    category = _dict['category']\n",
    "    price = _dict['price']\n",
    "    if category not in items_by_category:\n",
    "        items_by_category[category] = []\n",
    "        category_stats[category] = {'total_price': 0, 'count': 0}\n",
    "    else:\n",
    "        double_category = _dict['category']\n",
    "    items_by_category[category].append(_dict['item'])\n",
    "    category_stats[category]['total_price'] += price\n",
    "    category_stats[category]['count'] += 1\n",
    "    min_price.append(float(_dict[\"price\"]))\n",
    "tt = min(min_price)\n",
    "for _dict in purchases:\n",
    "    if float(_dict['price']) > tt:\n",
    "        expensive_purchases.append(_dict)\n",
    "average_price_by_category = {category: stats['total_price'] / stats['count'] for category, stats in category_stats.items()}\n",
    "\n",
    "\n",
    "print(f'Общаяя выручка: {total_revenue}')\n",
    "print(f'Товары по категориям: {items_by_category}')\n",
    "print(f'Покупки дороже {tt}: {expensive_purchases}')\n",
    "print(f'Средняя цена по категориям: {average_price_by_category}')\n",
    "print(f'Категория с наибольшим количеством проданных товаров: {double_category}')\n"
   ]
  }
 ],
 "metadata": {
  "language_info": {
   "name": "python"
  }
 },
 "nbformat": 4,
 "nbformat_minor": 2
}
