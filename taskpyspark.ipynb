{
 "cells": [
  {
   "cell_type": "code",
   "execution_count": null,
   "id": "660b7e09",
   "metadata": {},
   "outputs": [],
   "source": [
    "from pyspark.sql import SparkSession\n",
    "from pyspark.sql.types import StructType, StructField, StringType, IntegerType, TimestampType\n",
    "\n",
    "spark = SparkSession.builder.appName(\"test\").getOrCreate()\n",
    "\n",
    "schema = StructType([\n",
    "    StructField(\"ip\", StringType(), True),\n",
    "    StructField(\"timestamp\", TimestampType(), True),\n",
    "    StructField(\"http\", StringType(), True),\n",
    "    StructField(\"URL\", StringType(), True),\n",
    "    StructField(\"code\", IntegerType(), True),\n",
    "    StructField(\"size\", IntegerType(), True)])\n",
    "df = spark.read.option(\"header\", \"true\").option(\"delimiter\", \",\").schema(schema).csv(\"web_server_logs.csv\")\n",
    "df.createOrReplaceTempView(\"temp_table\")\n",
    "request = spark.sql(\"\"\"\n",
    "                    SELECT ip, count(*) as request_count FROM temp_table GROUP BY ip ORDER BY count(*) desc LIMIT 10\"\"\")\n",
    "request2 = spark.sql(\"\"\"\n",
    "                    SELECT http, count(*) as method_count FROM temp_table GROUP BY http ORDER BY count(*) \"\"\")\n",
    "count_404 = df.filter(df.code == 404).count()\n",
    "request3 = spark.sql(\"\"\"\n",
    "            SELECT date(timestamp) as date, sum(size) as total_response_size FROM temp_table GROUP BY date(timestamp) ORDER BY date \"\"\")\n",
    "print(\"Top 10 active IP addresses:\")\n",
    "request.show()\n",
    "print(\"Request count by HTTP method:\")\n",
    "request2.show()\n",
    "print(f'Number of 404 codes: {count_404}')\n",
    "print(\"Total response size by day:\")\n",
    "request3.show()"
   ]
  }
 ],
 "metadata": {
  "language_info": {
   "name": "python"
  }
 },
 "nbformat": 4,
 "nbformat_minor": 5
}
